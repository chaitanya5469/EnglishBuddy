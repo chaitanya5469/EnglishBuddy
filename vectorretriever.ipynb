{
 "cells": [
  {
   "cell_type": "markdown",
   "metadata": {},
   "source": [
    "### Vector stores and retrievers\n",
    "This video tutorial will familiarize you with LangChain's vector store and retriever abstractions. These abstractions are designed to support retrieval of data-- from (vector) databases and other sources-- for integration with LLM workflows. They are important for applications that fetch data to be reasoned over as part of model inference, as in the case of retrieval-augmented generation.\n",
    "\n",
    "We will cover \n",
    "- Documents\n",
    "- Vector stores\n",
    "- Retrievers\n"
   ]
  },
  {
   "cell_type": "code",
   "execution_count": 1,
   "metadata": {},
   "outputs": [
    {
     "name": "stdout",
     "output_type": "stream",
     "text": [
      "Requirement already satisfied: langchain in /media/Data/My Codes/LangChain/venv/lib/python3.11/site-packages (0.3.27)\n",
      "Requirement already satisfied: langchain-core<1.0.0,>=0.3.72 in /media/Data/My Codes/LangChain/venv/lib/python3.11/site-packages (from langchain) (0.3.79)\n",
      "Requirement already satisfied: langchain-text-splitters<1.0.0,>=0.3.9 in /media/Data/My Codes/LangChain/venv/lib/python3.11/site-packages (from langchain) (0.3.11)\n",
      "Requirement already satisfied: langsmith>=0.1.17 in /media/Data/My Codes/LangChain/venv/lib/python3.11/site-packages (from langchain) (0.4.37)\n",
      "Requirement already satisfied: pydantic<3.0.0,>=2.7.4 in /media/Data/My Codes/LangChain/venv/lib/python3.11/site-packages (from langchain) (2.12.2)\n",
      "Requirement already satisfied: SQLAlchemy<3,>=1.4 in /media/Data/My Codes/LangChain/venv/lib/python3.11/site-packages (from langchain) (2.0.44)\n",
      "Requirement already satisfied: requests<3,>=2 in /media/Data/My Codes/LangChain/venv/lib/python3.11/site-packages (from langchain) (2.32.5)\n",
      "Requirement already satisfied: PyYAML>=5.3 in /media/Data/My Codes/LangChain/venv/lib/python3.11/site-packages (from langchain) (6.0.3)\n",
      "Requirement already satisfied: tenacity!=8.4.0,<10.0.0,>=8.1.0 in /media/Data/My Codes/LangChain/venv/lib/python3.11/site-packages (from langchain-core<1.0.0,>=0.3.72->langchain) (9.1.2)\n",
      "Requirement already satisfied: jsonpatch<2.0.0,>=1.33.0 in /media/Data/My Codes/LangChain/venv/lib/python3.11/site-packages (from langchain-core<1.0.0,>=0.3.72->langchain) (1.33)\n",
      "Requirement already satisfied: typing-extensions<5.0.0,>=4.7.0 in /media/Data/My Codes/LangChain/venv/lib/python3.11/site-packages (from langchain-core<1.0.0,>=0.3.72->langchain) (4.15.0)\n",
      "Requirement already satisfied: packaging<26.0.0,>=23.2.0 in /media/Data/My Codes/LangChain/venv/lib/python3.11/site-packages (from langchain-core<1.0.0,>=0.3.72->langchain) (25.0)\n",
      "Requirement already satisfied: httpx<1,>=0.23.0 in /media/Data/My Codes/LangChain/venv/lib/python3.11/site-packages (from langsmith>=0.1.17->langchain) (0.28.1)\n",
      "Requirement already satisfied: orjson>=3.9.14 in /media/Data/My Codes/LangChain/venv/lib/python3.11/site-packages (from langsmith>=0.1.17->langchain) (3.11.3)\n",
      "Requirement already satisfied: requests-toolbelt>=1.0.0 in /media/Data/My Codes/LangChain/venv/lib/python3.11/site-packages (from langsmith>=0.1.17->langchain) (1.0.0)\n",
      "Requirement already satisfied: zstandard>=0.23.0 in /media/Data/My Codes/LangChain/venv/lib/python3.11/site-packages (from langsmith>=0.1.17->langchain) (0.25.0)\n",
      "Requirement already satisfied: annotated-types>=0.6.0 in /media/Data/My Codes/LangChain/venv/lib/python3.11/site-packages (from pydantic<3.0.0,>=2.7.4->langchain) (0.7.0)\n",
      "Requirement already satisfied: pydantic-core==2.41.4 in /media/Data/My Codes/LangChain/venv/lib/python3.11/site-packages (from pydantic<3.0.0,>=2.7.4->langchain) (2.41.4)\n",
      "Requirement already satisfied: typing-inspection>=0.4.2 in /media/Data/My Codes/LangChain/venv/lib/python3.11/site-packages (from pydantic<3.0.0,>=2.7.4->langchain) (0.4.2)\n",
      "Requirement already satisfied: charset_normalizer<4,>=2 in /media/Data/My Codes/LangChain/venv/lib/python3.11/site-packages (from requests<3,>=2->langchain) (3.4.4)\n",
      "Requirement already satisfied: idna<4,>=2.5 in /media/Data/My Codes/LangChain/venv/lib/python3.11/site-packages (from requests<3,>=2->langchain) (3.11)\n",
      "Requirement already satisfied: urllib3<3,>=1.21.1 in /media/Data/My Codes/LangChain/venv/lib/python3.11/site-packages (from requests<3,>=2->langchain) (2.3.0)\n",
      "Requirement already satisfied: certifi>=2017.4.17 in /media/Data/My Codes/LangChain/venv/lib/python3.11/site-packages (from requests<3,>=2->langchain) (2025.10.5)\n",
      "Requirement already satisfied: greenlet>=1 in /media/Data/My Codes/LangChain/venv/lib/python3.11/site-packages (from SQLAlchemy<3,>=1.4->langchain) (3.2.4)\n",
      "Requirement already satisfied: anyio in /media/Data/My Codes/LangChain/venv/lib/python3.11/site-packages (from httpx<1,>=0.23.0->langsmith>=0.1.17->langchain) (4.11.0)\n",
      "Requirement already satisfied: httpcore==1.* in /media/Data/My Codes/LangChain/venv/lib/python3.11/site-packages (from httpx<1,>=0.23.0->langsmith>=0.1.17->langchain) (1.0.9)\n",
      "Requirement already satisfied: h11>=0.16 in /media/Data/My Codes/LangChain/venv/lib/python3.11/site-packages (from httpcore==1.*->httpx<1,>=0.23.0->langsmith>=0.1.17->langchain) (0.16.0)\n",
      "Requirement already satisfied: jsonpointer>=1.9 in /media/Data/My Codes/LangChain/venv/lib/python3.11/site-packages (from jsonpatch<2.0.0,>=1.33.0->langchain-core<1.0.0,>=0.3.72->langchain) (3.0.0)\n",
      "Requirement already satisfied: sniffio>=1.1 in /media/Data/My Codes/LangChain/venv/lib/python3.11/site-packages (from anyio->httpx<1,>=0.23.0->langsmith>=0.1.17->langchain) (1.3.1)\n",
      "Requirement already satisfied: langchain-chroma in /media/Data/My Codes/LangChain/venv/lib/python3.11/site-packages (0.2.6)\n",
      "Requirement already satisfied: langchain-core>=0.3.76 in /media/Data/My Codes/LangChain/venv/lib/python3.11/site-packages (from langchain-chroma) (0.3.79)\n",
      "Requirement already satisfied: numpy>=1.26.0 in /media/Data/My Codes/LangChain/venv/lib/python3.11/site-packages (from langchain-chroma) (2.3.4)\n",
      "Requirement already satisfied: chromadb>=1.0.20 in /media/Data/My Codes/LangChain/venv/lib/python3.11/site-packages (from langchain-chroma) (1.2.1)\n",
      "Requirement already satisfied: build>=1.0.3 in /media/Data/My Codes/LangChain/venv/lib/python3.11/site-packages (from chromadb>=1.0.20->langchain-chroma) (1.3.0)\n",
      "Requirement already satisfied: pydantic>=1.9 in /media/Data/My Codes/LangChain/venv/lib/python3.11/site-packages (from chromadb>=1.0.20->langchain-chroma) (2.12.2)\n",
      "Requirement already satisfied: pybase64>=1.4.1 in /media/Data/My Codes/LangChain/venv/lib/python3.11/site-packages (from chromadb>=1.0.20->langchain-chroma) (1.4.2)\n",
      "Requirement already satisfied: uvicorn[standard]>=0.18.3 in /media/Data/My Codes/LangChain/venv/lib/python3.11/site-packages (from chromadb>=1.0.20->langchain-chroma) (0.38.0)\n",
      "Requirement already satisfied: posthog<6.0.0,>=2.4.0 in /media/Data/My Codes/LangChain/venv/lib/python3.11/site-packages (from chromadb>=1.0.20->langchain-chroma) (5.4.0)\n",
      "Requirement already satisfied: typing-extensions>=4.5.0 in /media/Data/My Codes/LangChain/venv/lib/python3.11/site-packages (from chromadb>=1.0.20->langchain-chroma) (4.15.0)\n",
      "Requirement already satisfied: onnxruntime>=1.14.1 in /media/Data/My Codes/LangChain/venv/lib/python3.11/site-packages (from chromadb>=1.0.20->langchain-chroma) (1.23.2)\n",
      "Requirement already satisfied: opentelemetry-api>=1.2.0 in /media/Data/My Codes/LangChain/venv/lib/python3.11/site-packages (from chromadb>=1.0.20->langchain-chroma) (1.38.0)\n",
      "Requirement already satisfied: opentelemetry-exporter-otlp-proto-grpc>=1.2.0 in /media/Data/My Codes/LangChain/venv/lib/python3.11/site-packages (from chromadb>=1.0.20->langchain-chroma) (1.38.0)\n",
      "Requirement already satisfied: opentelemetry-sdk>=1.2.0 in /media/Data/My Codes/LangChain/venv/lib/python3.11/site-packages (from chromadb>=1.0.20->langchain-chroma) (1.38.0)\n",
      "Requirement already satisfied: tokenizers>=0.13.2 in /media/Data/My Codes/LangChain/venv/lib/python3.11/site-packages (from chromadb>=1.0.20->langchain-chroma) (0.22.1)\n",
      "Requirement already satisfied: pypika>=0.48.9 in /media/Data/My Codes/LangChain/venv/lib/python3.11/site-packages (from chromadb>=1.0.20->langchain-chroma) (0.48.9)\n",
      "Requirement already satisfied: tqdm>=4.65.0 in /media/Data/My Codes/LangChain/venv/lib/python3.11/site-packages (from chromadb>=1.0.20->langchain-chroma) (4.67.1)\n",
      "Requirement already satisfied: overrides>=7.3.1 in /media/Data/My Codes/LangChain/venv/lib/python3.11/site-packages (from chromadb>=1.0.20->langchain-chroma) (7.7.0)\n",
      "Requirement already satisfied: importlib-resources in /media/Data/My Codes/LangChain/venv/lib/python3.11/site-packages (from chromadb>=1.0.20->langchain-chroma) (6.5.2)\n",
      "Requirement already satisfied: grpcio>=1.58.0 in /media/Data/My Codes/LangChain/venv/lib/python3.11/site-packages (from chromadb>=1.0.20->langchain-chroma) (1.76.0)\n",
      "Requirement already satisfied: bcrypt>=4.0.1 in /media/Data/My Codes/LangChain/venv/lib/python3.11/site-packages (from chromadb>=1.0.20->langchain-chroma) (5.0.0)\n",
      "Requirement already satisfied: typer>=0.9.0 in /media/Data/My Codes/LangChain/venv/lib/python3.11/site-packages (from chromadb>=1.0.20->langchain-chroma) (0.20.0)\n",
      "Requirement already satisfied: kubernetes>=28.1.0 in /media/Data/My Codes/LangChain/venv/lib/python3.11/site-packages (from chromadb>=1.0.20->langchain-chroma) (34.1.0)\n",
      "Requirement already satisfied: tenacity>=8.2.3 in /media/Data/My Codes/LangChain/venv/lib/python3.11/site-packages (from chromadb>=1.0.20->langchain-chroma) (9.1.2)\n",
      "Requirement already satisfied: pyyaml>=6.0.0 in /media/Data/My Codes/LangChain/venv/lib/python3.11/site-packages (from chromadb>=1.0.20->langchain-chroma) (6.0.3)\n",
      "Requirement already satisfied: mmh3>=4.0.1 in /media/Data/My Codes/LangChain/venv/lib/python3.11/site-packages (from chromadb>=1.0.20->langchain-chroma) (5.2.0)\n",
      "Requirement already satisfied: orjson>=3.9.12 in /media/Data/My Codes/LangChain/venv/lib/python3.11/site-packages (from chromadb>=1.0.20->langchain-chroma) (3.11.3)\n",
      "Requirement already satisfied: httpx>=0.27.0 in /media/Data/My Codes/LangChain/venv/lib/python3.11/site-packages (from chromadb>=1.0.20->langchain-chroma) (0.28.1)\n",
      "Requirement already satisfied: rich>=10.11.0 in /media/Data/My Codes/LangChain/venv/lib/python3.11/site-packages (from chromadb>=1.0.20->langchain-chroma) (14.2.0)\n",
      "Requirement already satisfied: jsonschema>=4.19.0 in /media/Data/My Codes/LangChain/venv/lib/python3.11/site-packages (from chromadb>=1.0.20->langchain-chroma) (4.25.1)\n",
      "Requirement already satisfied: langsmith<1.0.0,>=0.3.45 in /media/Data/My Codes/LangChain/venv/lib/python3.11/site-packages (from langchain-core>=0.3.76->langchain-chroma) (0.4.37)\n",
      "Requirement already satisfied: jsonpatch<2.0.0,>=1.33.0 in /media/Data/My Codes/LangChain/venv/lib/python3.11/site-packages (from langchain-core>=0.3.76->langchain-chroma) (1.33)\n",
      "Requirement already satisfied: packaging<26.0.0,>=23.2.0 in /media/Data/My Codes/LangChain/venv/lib/python3.11/site-packages (from langchain-core>=0.3.76->langchain-chroma) (25.0)\n",
      "Requirement already satisfied: pyproject_hooks in /media/Data/My Codes/LangChain/venv/lib/python3.11/site-packages (from build>=1.0.3->chromadb>=1.0.20->langchain-chroma) (1.2.0)\n",
      "Requirement already satisfied: anyio in /media/Data/My Codes/LangChain/venv/lib/python3.11/site-packages (from httpx>=0.27.0->chromadb>=1.0.20->langchain-chroma) (4.11.0)\n",
      "Requirement already satisfied: certifi in /media/Data/My Codes/LangChain/venv/lib/python3.11/site-packages (from httpx>=0.27.0->chromadb>=1.0.20->langchain-chroma) (2025.10.5)\n",
      "Requirement already satisfied: httpcore==1.* in /media/Data/My Codes/LangChain/venv/lib/python3.11/site-packages (from httpx>=0.27.0->chromadb>=1.0.20->langchain-chroma) (1.0.9)\n",
      "Requirement already satisfied: idna in /media/Data/My Codes/LangChain/venv/lib/python3.11/site-packages (from httpx>=0.27.0->chromadb>=1.0.20->langchain-chroma) (3.11)\n",
      "Requirement already satisfied: h11>=0.16 in /media/Data/My Codes/LangChain/venv/lib/python3.11/site-packages (from httpcore==1.*->httpx>=0.27.0->chromadb>=1.0.20->langchain-chroma) (0.16.0)\n",
      "Requirement already satisfied: jsonpointer>=1.9 in /media/Data/My Codes/LangChain/venv/lib/python3.11/site-packages (from jsonpatch<2.0.0,>=1.33.0->langchain-core>=0.3.76->langchain-chroma) (3.0.0)\n",
      "Requirement already satisfied: attrs>=22.2.0 in /media/Data/My Codes/LangChain/venv/lib/python3.11/site-packages (from jsonschema>=4.19.0->chromadb>=1.0.20->langchain-chroma) (25.4.0)\n",
      "Requirement already satisfied: jsonschema-specifications>=2023.03.6 in /media/Data/My Codes/LangChain/venv/lib/python3.11/site-packages (from jsonschema>=4.19.0->chromadb>=1.0.20->langchain-chroma) (2025.9.1)\n",
      "Requirement already satisfied: referencing>=0.28.4 in /media/Data/My Codes/LangChain/venv/lib/python3.11/site-packages (from jsonschema>=4.19.0->chromadb>=1.0.20->langchain-chroma) (0.37.0)\n",
      "Requirement already satisfied: rpds-py>=0.7.1 in /media/Data/My Codes/LangChain/venv/lib/python3.11/site-packages (from jsonschema>=4.19.0->chromadb>=1.0.20->langchain-chroma) (0.27.1)\n",
      "Requirement already satisfied: six>=1.9.0 in /media/Data/My Codes/LangChain/venv/lib/python3.11/site-packages (from kubernetes>=28.1.0->chromadb>=1.0.20->langchain-chroma) (1.17.0)\n",
      "Requirement already satisfied: python-dateutil>=2.5.3 in /media/Data/My Codes/LangChain/venv/lib/python3.11/site-packages (from kubernetes>=28.1.0->chromadb>=1.0.20->langchain-chroma) (2.9.0.post0)\n",
      "Requirement already satisfied: google-auth>=1.0.1 in /media/Data/My Codes/LangChain/venv/lib/python3.11/site-packages (from kubernetes>=28.1.0->chromadb>=1.0.20->langchain-chroma) (2.41.1)\n",
      "Requirement already satisfied: websocket-client!=0.40.0,!=0.41.*,!=0.42.*,>=0.32.0 in /media/Data/My Codes/LangChain/venv/lib/python3.11/site-packages (from kubernetes>=28.1.0->chromadb>=1.0.20->langchain-chroma) (1.9.0)\n",
      "Requirement already satisfied: requests in /media/Data/My Codes/LangChain/venv/lib/python3.11/site-packages (from kubernetes>=28.1.0->chromadb>=1.0.20->langchain-chroma) (2.32.5)\n",
      "Requirement already satisfied: requests-oauthlib in /media/Data/My Codes/LangChain/venv/lib/python3.11/site-packages (from kubernetes>=28.1.0->chromadb>=1.0.20->langchain-chroma) (2.0.0)\n",
      "Requirement already satisfied: urllib3<2.4.0,>=1.24.2 in /media/Data/My Codes/LangChain/venv/lib/python3.11/site-packages (from kubernetes>=28.1.0->chromadb>=1.0.20->langchain-chroma) (2.3.0)\n",
      "Requirement already satisfied: durationpy>=0.7 in /media/Data/My Codes/LangChain/venv/lib/python3.11/site-packages (from kubernetes>=28.1.0->chromadb>=1.0.20->langchain-chroma) (0.10)\n",
      "Requirement already satisfied: requests-toolbelt>=1.0.0 in /media/Data/My Codes/LangChain/venv/lib/python3.11/site-packages (from langsmith<1.0.0,>=0.3.45->langchain-core>=0.3.76->langchain-chroma) (1.0.0)\n",
      "Requirement already satisfied: zstandard>=0.23.0 in /media/Data/My Codes/LangChain/venv/lib/python3.11/site-packages (from langsmith<1.0.0,>=0.3.45->langchain-core>=0.3.76->langchain-chroma) (0.25.0)\n",
      "Requirement already satisfied: coloredlogs in /media/Data/My Codes/LangChain/venv/lib/python3.11/site-packages (from onnxruntime>=1.14.1->chromadb>=1.0.20->langchain-chroma) (15.0.1)\n",
      "Requirement already satisfied: flatbuffers in /media/Data/My Codes/LangChain/venv/lib/python3.11/site-packages (from onnxruntime>=1.14.1->chromadb>=1.0.20->langchain-chroma) (25.9.23)\n",
      "Requirement already satisfied: protobuf in /media/Data/My Codes/LangChain/venv/lib/python3.11/site-packages (from onnxruntime>=1.14.1->chromadb>=1.0.20->langchain-chroma) (6.33.0)\n",
      "Requirement already satisfied: sympy in /media/Data/My Codes/LangChain/venv/lib/python3.11/site-packages (from onnxruntime>=1.14.1->chromadb>=1.0.20->langchain-chroma) (1.14.0)\n",
      "Requirement already satisfied: importlib-metadata<8.8.0,>=6.0 in /media/Data/My Codes/LangChain/venv/lib/python3.11/site-packages (from opentelemetry-api>=1.2.0->chromadb>=1.0.20->langchain-chroma) (8.7.0)\n",
      "Requirement already satisfied: googleapis-common-protos~=1.57 in /media/Data/My Codes/LangChain/venv/lib/python3.11/site-packages (from opentelemetry-exporter-otlp-proto-grpc>=1.2.0->chromadb>=1.0.20->langchain-chroma) (1.71.0)\n",
      "Requirement already satisfied: opentelemetry-exporter-otlp-proto-common==1.38.0 in /media/Data/My Codes/LangChain/venv/lib/python3.11/site-packages (from opentelemetry-exporter-otlp-proto-grpc>=1.2.0->chromadb>=1.0.20->langchain-chroma) (1.38.0)\n",
      "Requirement already satisfied: opentelemetry-proto==1.38.0 in /media/Data/My Codes/LangChain/venv/lib/python3.11/site-packages (from opentelemetry-exporter-otlp-proto-grpc>=1.2.0->chromadb>=1.0.20->langchain-chroma) (1.38.0)\n",
      "Requirement already satisfied: opentelemetry-semantic-conventions==0.59b0 in /media/Data/My Codes/LangChain/venv/lib/python3.11/site-packages (from opentelemetry-sdk>=1.2.0->chromadb>=1.0.20->langchain-chroma) (0.59b0)\n",
      "Requirement already satisfied: backoff>=1.10.0 in /media/Data/My Codes/LangChain/venv/lib/python3.11/site-packages (from posthog<6.0.0,>=2.4.0->chromadb>=1.0.20->langchain-chroma) (2.2.1)\n",
      "Requirement already satisfied: distro>=1.5.0 in /media/Data/My Codes/LangChain/venv/lib/python3.11/site-packages (from posthog<6.0.0,>=2.4.0->chromadb>=1.0.20->langchain-chroma) (1.9.0)\n",
      "Requirement already satisfied: annotated-types>=0.6.0 in /media/Data/My Codes/LangChain/venv/lib/python3.11/site-packages (from pydantic>=1.9->chromadb>=1.0.20->langchain-chroma) (0.7.0)\n",
      "Requirement already satisfied: pydantic-core==2.41.4 in /media/Data/My Codes/LangChain/venv/lib/python3.11/site-packages (from pydantic>=1.9->chromadb>=1.0.20->langchain-chroma) (2.41.4)\n",
      "Requirement already satisfied: typing-inspection>=0.4.2 in /media/Data/My Codes/LangChain/venv/lib/python3.11/site-packages (from pydantic>=1.9->chromadb>=1.0.20->langchain-chroma) (0.4.2)\n",
      "Requirement already satisfied: markdown-it-py>=2.2.0 in /media/Data/My Codes/LangChain/venv/lib/python3.11/site-packages (from rich>=10.11.0->chromadb>=1.0.20->langchain-chroma) (4.0.0)\n",
      "Requirement already satisfied: pygments<3.0.0,>=2.13.0 in /media/Data/My Codes/LangChain/venv/lib/python3.11/site-packages (from rich>=10.11.0->chromadb>=1.0.20->langchain-chroma) (2.19.2)\n",
      "Requirement already satisfied: huggingface-hub<2.0,>=0.16.4 in /media/Data/My Codes/LangChain/venv/lib/python3.11/site-packages (from tokenizers>=0.13.2->chromadb>=1.0.20->langchain-chroma) (0.35.3)\n",
      "Requirement already satisfied: click>=8.0.0 in /media/Data/My Codes/LangChain/venv/lib/python3.11/site-packages (from typer>=0.9.0->chromadb>=1.0.20->langchain-chroma) (8.3.0)\n",
      "Requirement already satisfied: shellingham>=1.3.0 in /media/Data/My Codes/LangChain/venv/lib/python3.11/site-packages (from typer>=0.9.0->chromadb>=1.0.20->langchain-chroma) (1.5.4)\n",
      "Requirement already satisfied: httptools>=0.6.3 in /media/Data/My Codes/LangChain/venv/lib/python3.11/site-packages (from uvicorn[standard]>=0.18.3->chromadb>=1.0.20->langchain-chroma) (0.7.1)\n",
      "Requirement already satisfied: python-dotenv>=0.13 in /media/Data/My Codes/LangChain/venv/lib/python3.11/site-packages (from uvicorn[standard]>=0.18.3->chromadb>=1.0.20->langchain-chroma) (1.1.1)\n",
      "Requirement already satisfied: uvloop>=0.15.1 in /media/Data/My Codes/LangChain/venv/lib/python3.11/site-packages (from uvicorn[standard]>=0.18.3->chromadb>=1.0.20->langchain-chroma) (0.22.1)\n",
      "Requirement already satisfied: watchfiles>=0.13 in /media/Data/My Codes/LangChain/venv/lib/python3.11/site-packages (from uvicorn[standard]>=0.18.3->chromadb>=1.0.20->langchain-chroma) (1.1.1)\n",
      "Requirement already satisfied: websockets>=10.4 in /media/Data/My Codes/LangChain/venv/lib/python3.11/site-packages (from uvicorn[standard]>=0.18.3->chromadb>=1.0.20->langchain-chroma) (15.0.1)\n",
      "Requirement already satisfied: cachetools<7.0,>=2.0.0 in /media/Data/My Codes/LangChain/venv/lib/python3.11/site-packages (from google-auth>=1.0.1->kubernetes>=28.1.0->chromadb>=1.0.20->langchain-chroma) (6.2.1)\n",
      "Requirement already satisfied: pyasn1-modules>=0.2.1 in /media/Data/My Codes/LangChain/venv/lib/python3.11/site-packages (from google-auth>=1.0.1->kubernetes>=28.1.0->chromadb>=1.0.20->langchain-chroma) (0.4.2)\n",
      "Requirement already satisfied: rsa<5,>=3.1.4 in /media/Data/My Codes/LangChain/venv/lib/python3.11/site-packages (from google-auth>=1.0.1->kubernetes>=28.1.0->chromadb>=1.0.20->langchain-chroma) (4.9.1)\n",
      "Requirement already satisfied: filelock in /media/Data/My Codes/LangChain/venv/lib/python3.11/site-packages (from huggingface-hub<2.0,>=0.16.4->tokenizers>=0.13.2->chromadb>=1.0.20->langchain-chroma) (3.20.0)\n",
      "Requirement already satisfied: fsspec>=2023.5.0 in /media/Data/My Codes/LangChain/venv/lib/python3.11/site-packages (from huggingface-hub<2.0,>=0.16.4->tokenizers>=0.13.2->chromadb>=1.0.20->langchain-chroma) (2025.9.0)\n",
      "Requirement already satisfied: hf-xet<2.0.0,>=1.1.3 in /media/Data/My Codes/LangChain/venv/lib/python3.11/site-packages (from huggingface-hub<2.0,>=0.16.4->tokenizers>=0.13.2->chromadb>=1.0.20->langchain-chroma) (1.1.10)\n",
      "Requirement already satisfied: zipp>=3.20 in /media/Data/My Codes/LangChain/venv/lib/python3.11/site-packages (from importlib-metadata<8.8.0,>=6.0->opentelemetry-api>=1.2.0->chromadb>=1.0.20->langchain-chroma) (3.23.0)\n",
      "Requirement already satisfied: mdurl~=0.1 in /media/Data/My Codes/LangChain/venv/lib/python3.11/site-packages (from markdown-it-py>=2.2.0->rich>=10.11.0->chromadb>=1.0.20->langchain-chroma) (0.1.2)\n",
      "Requirement already satisfied: charset_normalizer<4,>=2 in /media/Data/My Codes/LangChain/venv/lib/python3.11/site-packages (from requests->kubernetes>=28.1.0->chromadb>=1.0.20->langchain-chroma) (3.4.4)\n",
      "Requirement already satisfied: sniffio>=1.1 in /media/Data/My Codes/LangChain/venv/lib/python3.11/site-packages (from anyio->httpx>=0.27.0->chromadb>=1.0.20->langchain-chroma) (1.3.1)\n",
      "Requirement already satisfied: humanfriendly>=9.1 in /media/Data/My Codes/LangChain/venv/lib/python3.11/site-packages (from coloredlogs->onnxruntime>=1.14.1->chromadb>=1.0.20->langchain-chroma) (10.0)\n",
      "Requirement already satisfied: oauthlib>=3.0.0 in /media/Data/My Codes/LangChain/venv/lib/python3.11/site-packages (from requests-oauthlib->kubernetes>=28.1.0->chromadb>=1.0.20->langchain-chroma) (3.3.1)\n",
      "Requirement already satisfied: mpmath<1.4,>=1.1.0 in /media/Data/My Codes/LangChain/venv/lib/python3.11/site-packages (from sympy->onnxruntime>=1.14.1->chromadb>=1.0.20->langchain-chroma) (1.3.0)\n",
      "Requirement already satisfied: pyasn1<0.7.0,>=0.6.1 in /media/Data/My Codes/LangChain/venv/lib/python3.11/site-packages (from pyasn1-modules>=0.2.1->google-auth>=1.0.1->kubernetes>=28.1.0->chromadb>=1.0.20->langchain-chroma) (0.6.1)\n",
      "Requirement already satisfied: langchain_groq in /media/Data/My Codes/LangChain/venv/lib/python3.11/site-packages (0.3.8)\n",
      "Requirement already satisfied: langchain-core<1.0.0,>=0.3.75 in /media/Data/My Codes/LangChain/venv/lib/python3.11/site-packages (from langchain_groq) (0.3.79)\n",
      "Requirement already satisfied: groq<1,>=0.30.0 in /media/Data/My Codes/LangChain/venv/lib/python3.11/site-packages (from langchain_groq) (0.33.0)\n",
      "Requirement already satisfied: anyio<5,>=3.5.0 in /media/Data/My Codes/LangChain/venv/lib/python3.11/site-packages (from groq<1,>=0.30.0->langchain_groq) (4.11.0)\n",
      "Requirement already satisfied: distro<2,>=1.7.0 in /media/Data/My Codes/LangChain/venv/lib/python3.11/site-packages (from groq<1,>=0.30.0->langchain_groq) (1.9.0)\n",
      "Requirement already satisfied: httpx<1,>=0.23.0 in /media/Data/My Codes/LangChain/venv/lib/python3.11/site-packages (from groq<1,>=0.30.0->langchain_groq) (0.28.1)\n",
      "Requirement already satisfied: pydantic<3,>=1.9.0 in /media/Data/My Codes/LangChain/venv/lib/python3.11/site-packages (from groq<1,>=0.30.0->langchain_groq) (2.12.2)\n",
      "Requirement already satisfied: sniffio in /media/Data/My Codes/LangChain/venv/lib/python3.11/site-packages (from groq<1,>=0.30.0->langchain_groq) (1.3.1)\n",
      "Requirement already satisfied: typing-extensions<5,>=4.10 in /media/Data/My Codes/LangChain/venv/lib/python3.11/site-packages (from groq<1,>=0.30.0->langchain_groq) (4.15.0)\n",
      "Requirement already satisfied: langsmith<1.0.0,>=0.3.45 in /media/Data/My Codes/LangChain/venv/lib/python3.11/site-packages (from langchain-core<1.0.0,>=0.3.75->langchain_groq) (0.4.37)\n",
      "Requirement already satisfied: tenacity!=8.4.0,<10.0.0,>=8.1.0 in /media/Data/My Codes/LangChain/venv/lib/python3.11/site-packages (from langchain-core<1.0.0,>=0.3.75->langchain_groq) (9.1.2)\n",
      "Requirement already satisfied: jsonpatch<2.0.0,>=1.33.0 in /media/Data/My Codes/LangChain/venv/lib/python3.11/site-packages (from langchain-core<1.0.0,>=0.3.75->langchain_groq) (1.33)\n",
      "Requirement already satisfied: PyYAML<7.0.0,>=5.3.0 in /media/Data/My Codes/LangChain/venv/lib/python3.11/site-packages (from langchain-core<1.0.0,>=0.3.75->langchain_groq) (6.0.3)\n",
      "Requirement already satisfied: packaging<26.0.0,>=23.2.0 in /media/Data/My Codes/LangChain/venv/lib/python3.11/site-packages (from langchain-core<1.0.0,>=0.3.75->langchain_groq) (25.0)\n",
      "Requirement already satisfied: idna>=2.8 in /media/Data/My Codes/LangChain/venv/lib/python3.11/site-packages (from anyio<5,>=3.5.0->groq<1,>=0.30.0->langchain_groq) (3.11)\n",
      "Requirement already satisfied: certifi in /media/Data/My Codes/LangChain/venv/lib/python3.11/site-packages (from httpx<1,>=0.23.0->groq<1,>=0.30.0->langchain_groq) (2025.10.5)\n",
      "Requirement already satisfied: httpcore==1.* in /media/Data/My Codes/LangChain/venv/lib/python3.11/site-packages (from httpx<1,>=0.23.0->groq<1,>=0.30.0->langchain_groq) (1.0.9)\n",
      "Requirement already satisfied: h11>=0.16 in /media/Data/My Codes/LangChain/venv/lib/python3.11/site-packages (from httpcore==1.*->httpx<1,>=0.23.0->groq<1,>=0.30.0->langchain_groq) (0.16.0)\n",
      "Requirement already satisfied: jsonpointer>=1.9 in /media/Data/My Codes/LangChain/venv/lib/python3.11/site-packages (from jsonpatch<2.0.0,>=1.33.0->langchain-core<1.0.0,>=0.3.75->langchain_groq) (3.0.0)\n",
      "Requirement already satisfied: orjson>=3.9.14 in /media/Data/My Codes/LangChain/venv/lib/python3.11/site-packages (from langsmith<1.0.0,>=0.3.45->langchain-core<1.0.0,>=0.3.75->langchain_groq) (3.11.3)\n",
      "Requirement already satisfied: requests-toolbelt>=1.0.0 in /media/Data/My Codes/LangChain/venv/lib/python3.11/site-packages (from langsmith<1.0.0,>=0.3.45->langchain-core<1.0.0,>=0.3.75->langchain_groq) (1.0.0)\n",
      "Requirement already satisfied: requests>=2.0.0 in /media/Data/My Codes/LangChain/venv/lib/python3.11/site-packages (from langsmith<1.0.0,>=0.3.45->langchain-core<1.0.0,>=0.3.75->langchain_groq) (2.32.5)\n",
      "Requirement already satisfied: zstandard>=0.23.0 in /media/Data/My Codes/LangChain/venv/lib/python3.11/site-packages (from langsmith<1.0.0,>=0.3.45->langchain-core<1.0.0,>=0.3.75->langchain_groq) (0.25.0)\n",
      "Requirement already satisfied: annotated-types>=0.6.0 in /media/Data/My Codes/LangChain/venv/lib/python3.11/site-packages (from pydantic<3,>=1.9.0->groq<1,>=0.30.0->langchain_groq) (0.7.0)\n",
      "Requirement already satisfied: pydantic-core==2.41.4 in /media/Data/My Codes/LangChain/venv/lib/python3.11/site-packages (from pydantic<3,>=1.9.0->groq<1,>=0.30.0->langchain_groq) (2.41.4)\n",
      "Requirement already satisfied: typing-inspection>=0.4.2 in /media/Data/My Codes/LangChain/venv/lib/python3.11/site-packages (from pydantic<3,>=1.9.0->groq<1,>=0.30.0->langchain_groq) (0.4.2)\n",
      "Requirement already satisfied: charset_normalizer<4,>=2 in /media/Data/My Codes/LangChain/venv/lib/python3.11/site-packages (from requests>=2.0.0->langsmith<1.0.0,>=0.3.45->langchain-core<1.0.0,>=0.3.75->langchain_groq) (3.4.4)\n",
      "Requirement already satisfied: urllib3<3,>=1.21.1 in /media/Data/My Codes/LangChain/venv/lib/python3.11/site-packages (from requests>=2.0.0->langsmith<1.0.0,>=0.3.45->langchain-core<1.0.0,>=0.3.75->langchain_groq) (2.3.0)\n"
     ]
    }
   ],
   "source": [
    "!pip install langchain\n",
    "!pip install langchain-chroma\n",
    "!pip install langchain_groq"
   ]
  },
  {
   "cell_type": "markdown",
   "metadata": {},
   "source": [
    "### Documents\n",
    "LangChain implements a Document abstraction, which is intended to represent a unit of text and associated metadata. It has two attributes:\n",
    "\n",
    "- page_content: a string representing the content;\n",
    "- metadata: a dict containing arbitrary metadata.\n",
    "The metadata attribute can capture information about the source of the document, its relationship to other documents, and other information. Note that an individual Document object often represents a chunk of a larger document.\n",
    "\n",
    "Let's generate some sample documents:"
   ]
  },
  {
   "cell_type": "code",
   "execution_count": 6,
   "metadata": {},
   "outputs": [],
   "source": [
    "from langchain_core.documents import Document\n",
    "\n",
    "documents = [\n",
    "    Document(\n",
    "        page_content=\"Dogs are great companions, known for their loyalty and friendliness.\",\n",
    "        metadata={\"source\": \"mammal-pets-doc\"},\n",
    "    ),\n",
    "    Document(\n",
    "        page_content=\"Cats are independent pets that often enjoy their own space.\",\n",
    "        metadata={\"source\": \"mammal-pets-doc\"},\n",
    "    ),\n",
    "    Document(\n",
    "        page_content=\"Goldfish are popular pets for beginners, requiring relatively simple care.\",\n",
    "        metadata={\"source\": \"fish-pets-doc\"},\n",
    "    ),\n",
    "    Document(\n",
    "        page_content=\"Parrots are intelligent birds capable of mimicking human speech.\",\n",
    "        metadata={\"source\": \"bird-pets-doc\"},\n",
    "    ),\n",
    "    Document(\n",
    "        page_content=\"Rabbits are social animals that need plenty of space to hop around.\",\n",
    "        metadata={\"source\": \"mammal-pets-doc\"},\n",
    "    ),\n",
    "]"
   ]
  },
  {
   "cell_type": "code",
   "execution_count": 3,
   "metadata": {},
   "outputs": [
    {
     "data": {
      "text/plain": [
       "[Document(page_content='Dogs are great companions, known for their loyalty and friendliness.', metadata={'source': 'mammal-pets-doc'}),\n",
       " Document(page_content='Cats are independent pets that often enjoy their own space.', metadata={'source': 'mammal-pets-doc'}),\n",
       " Document(page_content='Goldfish are popular pets for beginners, requiring relatively simple care.', metadata={'source': 'fish-pets-doc'}),\n",
       " Document(page_content='Parrots are intelligent birds capable of mimicking human speech.', metadata={'source': 'bird-pets-doc'}),\n",
       " Document(page_content='Rabbits are social animals that need plenty of space to hop around.', metadata={'source': 'mammal-pets-doc'})]"
      ]
     },
     "execution_count": 3,
     "metadata": {},
     "output_type": "execute_result"
    }
   ],
   "source": [
    "documents"
   ]
  },
  {
   "cell_type": "code",
   "execution_count": 23,
   "metadata": {},
   "outputs": [
    {
     "data": {
      "text/plain": [
       "ChatGroq(client=<groq.resources.chat.completions.Completions object at 0x7f6235ed3d10>, async_client=<groq.resources.chat.completions.AsyncCompletions object at 0x7f6235ed0210>, model_name='openai/gpt-oss-120b', model_kwargs={}, groq_api_key=SecretStr('**********'))"
      ]
     },
     "execution_count": 23,
     "metadata": {},
     "output_type": "execute_result"
    }
   ],
   "source": [
    "import os\n",
    "from dotenv import load_dotenv\n",
    "load_dotenv()\n",
    "from langchain_groq import ChatGroq\n",
    "os.environ['groq_api_key']=os.getenv(\"GROQ_API_KEY\")\n",
    "\n",
    "os.environ[\"HF_TOKEN\"]=os.getenv(\"HUGGINGFACE_API_TOKEN\")\n",
    "\n",
    "llm=ChatGroq(model=\"openai/gpt-oss-120b\")\n",
    "llm"
   ]
  },
  {
   "cell_type": "code",
   "execution_count": 3,
   "metadata": {},
   "outputs": [
    {
     "name": "stdout",
     "output_type": "stream",
     "text": [
      "Requirement already satisfied: langchain_huggingface in /media/Data/My Codes/LangChain/venv/lib/python3.11/site-packages (0.3.1)\n",
      "Requirement already satisfied: langchain-core<1.0.0,>=0.3.70 in /media/Data/My Codes/LangChain/venv/lib/python3.11/site-packages (from langchain_huggingface) (0.3.79)\n",
      "Requirement already satisfied: tokenizers>=0.19.1 in /media/Data/My Codes/LangChain/venv/lib/python3.11/site-packages (from langchain_huggingface) (0.22.1)\n",
      "Requirement already satisfied: huggingface-hub>=0.33.4 in /media/Data/My Codes/LangChain/venv/lib/python3.11/site-packages (from langchain_huggingface) (0.35.3)\n",
      "Requirement already satisfied: filelock in /media/Data/My Codes/LangChain/venv/lib/python3.11/site-packages (from huggingface-hub>=0.33.4->langchain_huggingface) (3.20.0)\n",
      "Requirement already satisfied: fsspec>=2023.5.0 in /media/Data/My Codes/LangChain/venv/lib/python3.11/site-packages (from huggingface-hub>=0.33.4->langchain_huggingface) (2025.9.0)\n",
      "Requirement already satisfied: packaging>=20.9 in /media/Data/My Codes/LangChain/venv/lib/python3.11/site-packages (from huggingface-hub>=0.33.4->langchain_huggingface) (25.0)\n",
      "Requirement already satisfied: pyyaml>=5.1 in /media/Data/My Codes/LangChain/venv/lib/python3.11/site-packages (from huggingface-hub>=0.33.4->langchain_huggingface) (6.0.3)\n",
      "Requirement already satisfied: requests in /media/Data/My Codes/LangChain/venv/lib/python3.11/site-packages (from huggingface-hub>=0.33.4->langchain_huggingface) (2.32.5)\n",
      "Requirement already satisfied: tqdm>=4.42.1 in /media/Data/My Codes/LangChain/venv/lib/python3.11/site-packages (from huggingface-hub>=0.33.4->langchain_huggingface) (4.67.1)\n",
      "Requirement already satisfied: typing-extensions>=3.7.4.3 in /media/Data/My Codes/LangChain/venv/lib/python3.11/site-packages (from huggingface-hub>=0.33.4->langchain_huggingface) (4.15.0)\n",
      "Requirement already satisfied: hf-xet<2.0.0,>=1.1.3 in /media/Data/My Codes/LangChain/venv/lib/python3.11/site-packages (from huggingface-hub>=0.33.4->langchain_huggingface) (1.1.10)\n",
      "Requirement already satisfied: langsmith<1.0.0,>=0.3.45 in /media/Data/My Codes/LangChain/venv/lib/python3.11/site-packages (from langchain-core<1.0.0,>=0.3.70->langchain_huggingface) (0.4.37)\n",
      "Requirement already satisfied: tenacity!=8.4.0,<10.0.0,>=8.1.0 in /media/Data/My Codes/LangChain/venv/lib/python3.11/site-packages (from langchain-core<1.0.0,>=0.3.70->langchain_huggingface) (9.1.2)\n",
      "Requirement already satisfied: jsonpatch<2.0.0,>=1.33.0 in /media/Data/My Codes/LangChain/venv/lib/python3.11/site-packages (from langchain-core<1.0.0,>=0.3.70->langchain_huggingface) (1.33)\n",
      "Requirement already satisfied: pydantic<3.0.0,>=2.7.4 in /media/Data/My Codes/LangChain/venv/lib/python3.11/site-packages (from langchain-core<1.0.0,>=0.3.70->langchain_huggingface) (2.12.2)\n",
      "Requirement already satisfied: jsonpointer>=1.9 in /media/Data/My Codes/LangChain/venv/lib/python3.11/site-packages (from jsonpatch<2.0.0,>=1.33.0->langchain-core<1.0.0,>=0.3.70->langchain_huggingface) (3.0.0)\n",
      "Requirement already satisfied: httpx<1,>=0.23.0 in /media/Data/My Codes/LangChain/venv/lib/python3.11/site-packages (from langsmith<1.0.0,>=0.3.45->langchain-core<1.0.0,>=0.3.70->langchain_huggingface) (0.28.1)\n",
      "Requirement already satisfied: orjson>=3.9.14 in /media/Data/My Codes/LangChain/venv/lib/python3.11/site-packages (from langsmith<1.0.0,>=0.3.45->langchain-core<1.0.0,>=0.3.70->langchain_huggingface) (3.11.3)\n",
      "Requirement already satisfied: requests-toolbelt>=1.0.0 in /media/Data/My Codes/LangChain/venv/lib/python3.11/site-packages (from langsmith<1.0.0,>=0.3.45->langchain-core<1.0.0,>=0.3.70->langchain_huggingface) (1.0.0)\n",
      "Requirement already satisfied: zstandard>=0.23.0 in /media/Data/My Codes/LangChain/venv/lib/python3.11/site-packages (from langsmith<1.0.0,>=0.3.45->langchain-core<1.0.0,>=0.3.70->langchain_huggingface) (0.25.0)\n",
      "Requirement already satisfied: annotated-types>=0.6.0 in /media/Data/My Codes/LangChain/venv/lib/python3.11/site-packages (from pydantic<3.0.0,>=2.7.4->langchain-core<1.0.0,>=0.3.70->langchain_huggingface) (0.7.0)\n",
      "Requirement already satisfied: pydantic-core==2.41.4 in /media/Data/My Codes/LangChain/venv/lib/python3.11/site-packages (from pydantic<3.0.0,>=2.7.4->langchain-core<1.0.0,>=0.3.70->langchain_huggingface) (2.41.4)\n",
      "Requirement already satisfied: typing-inspection>=0.4.2 in /media/Data/My Codes/LangChain/venv/lib/python3.11/site-packages (from pydantic<3.0.0,>=2.7.4->langchain-core<1.0.0,>=0.3.70->langchain_huggingface) (0.4.2)\n",
      "Requirement already satisfied: charset_normalizer<4,>=2 in /media/Data/My Codes/LangChain/venv/lib/python3.11/site-packages (from requests->huggingface-hub>=0.33.4->langchain_huggingface) (3.4.4)\n",
      "Requirement already satisfied: idna<4,>=2.5 in /media/Data/My Codes/LangChain/venv/lib/python3.11/site-packages (from requests->huggingface-hub>=0.33.4->langchain_huggingface) (3.11)\n",
      "Requirement already satisfied: urllib3<3,>=1.21.1 in /media/Data/My Codes/LangChain/venv/lib/python3.11/site-packages (from requests->huggingface-hub>=0.33.4->langchain_huggingface) (2.3.0)\n",
      "Requirement already satisfied: certifi>=2017.4.17 in /media/Data/My Codes/LangChain/venv/lib/python3.11/site-packages (from requests->huggingface-hub>=0.33.4->langchain_huggingface) (2025.10.5)\n",
      "Requirement already satisfied: anyio in /media/Data/My Codes/LangChain/venv/lib/python3.11/site-packages (from httpx<1,>=0.23.0->langsmith<1.0.0,>=0.3.45->langchain-core<1.0.0,>=0.3.70->langchain_huggingface) (4.11.0)\n",
      "Requirement already satisfied: httpcore==1.* in /media/Data/My Codes/LangChain/venv/lib/python3.11/site-packages (from httpx<1,>=0.23.0->langsmith<1.0.0,>=0.3.45->langchain-core<1.0.0,>=0.3.70->langchain_huggingface) (1.0.9)\n",
      "Requirement already satisfied: h11>=0.16 in /media/Data/My Codes/LangChain/venv/lib/python3.11/site-packages (from httpcore==1.*->httpx<1,>=0.23.0->langsmith<1.0.0,>=0.3.45->langchain-core<1.0.0,>=0.3.70->langchain_huggingface) (0.16.0)\n",
      "Requirement already satisfied: sniffio>=1.1 in /media/Data/My Codes/LangChain/venv/lib/python3.11/site-packages (from anyio->httpx<1,>=0.23.0->langsmith<1.0.0,>=0.3.45->langchain-core<1.0.0,>=0.3.70->langchain_huggingface) (1.3.1)\n"
     ]
    }
   ],
   "source": [
    "!pip install langchain_huggingface"
   ]
  },
  {
   "cell_type": "code",
   "execution_count": 15,
   "metadata": {},
   "outputs": [],
   "source": [
    "from langchain_huggingface import HuggingFaceEmbeddings\n",
    "embeddings=HuggingFaceEmbeddings(model_name=\"all-MiniLM-L6-v2\")"
   ]
  },
  {
   "cell_type": "code",
   "execution_count": 16,
   "metadata": {},
   "outputs": [
    {
     "data": {
      "text/plain": [
       "<langchain_chroma.vectorstores.Chroma at 0x7f6236987e50>"
      ]
     },
     "execution_count": 16,
     "metadata": {},
     "output_type": "execute_result"
    }
   ],
   "source": [
    "## VectorStores\n",
    "from langchain_chroma import Chroma\n",
    "\n",
    "vectorstore=Chroma.from_documents(documents,embedding=embeddings)\n",
    "vectorstore\n"
   ]
  },
  {
   "cell_type": "code",
   "execution_count": 17,
   "metadata": {},
   "outputs": [
    {
     "data": {
      "text/plain": [
       "[Document(id='c2639975-85d3-4ef1-bb2b-93b0c7f4e0cd', metadata={'source': 'mammal-pets-doc'}, page_content='Cats are independent pets that often enjoy their own space.'),\n",
       " Document(id='804d6688-5b80-4d69-b33c-f42e0f8e10c6', metadata={'source': 'mammal-pets-doc'}, page_content='Cats are independent pets that often enjoy their own space.'),\n",
       " Document(id='e44dcd64-65a2-41aa-b72d-f091b4943de4', metadata={'source': 'mammal-pets-doc'}, page_content='Dogs are great companions, known for their loyalty and friendliness.'),\n",
       " Document(id='b98b3fd7-5e24-4e44-b33a-2045126ac4dc', metadata={'source': 'mammal-pets-doc'}, page_content='Dogs are great companions, known for their loyalty and friendliness.')]"
      ]
     },
     "execution_count": 17,
     "metadata": {},
     "output_type": "execute_result"
    }
   ],
   "source": [
    "vectorstore.similarity_search(\"cat\")"
   ]
  },
  {
   "cell_type": "code",
   "execution_count": 18,
   "metadata": {},
   "outputs": [
    {
     "data": {
      "text/plain": [
       "[Document(id='c2639975-85d3-4ef1-bb2b-93b0c7f4e0cd', metadata={'source': 'mammal-pets-doc'}, page_content='Cats are independent pets that often enjoy their own space.'),\n",
       " Document(id='804d6688-5b80-4d69-b33c-f42e0f8e10c6', metadata={'source': 'mammal-pets-doc'}, page_content='Cats are independent pets that often enjoy their own space.'),\n",
       " Document(id='e44dcd64-65a2-41aa-b72d-f091b4943de4', metadata={'source': 'mammal-pets-doc'}, page_content='Dogs are great companions, known for their loyalty and friendliness.'),\n",
       " Document(id='b98b3fd7-5e24-4e44-b33a-2045126ac4dc', metadata={'source': 'mammal-pets-doc'}, page_content='Dogs are great companions, known for their loyalty and friendliness.')]"
      ]
     },
     "execution_count": 18,
     "metadata": {},
     "output_type": "execute_result"
    }
   ],
   "source": [
    "## Async query\n",
    "await vectorstore.asimilarity_search(\"cat\")"
   ]
  },
  {
   "cell_type": "code",
   "execution_count": 19,
   "metadata": {},
   "outputs": [
    {
     "data": {
      "text/plain": [
       "[(Document(id='c2639975-85d3-4ef1-bb2b-93b0c7f4e0cd', metadata={'source': 'mammal-pets-doc'}, page_content='Cats are independent pets that often enjoy their own space.'),\n",
       "  0.9351054430007935),\n",
       " (Document(id='804d6688-5b80-4d69-b33c-f42e0f8e10c6', metadata={'source': 'mammal-pets-doc'}, page_content='Cats are independent pets that often enjoy their own space.'),\n",
       "  0.9351054430007935),\n",
       " (Document(id='e44dcd64-65a2-41aa-b72d-f091b4943de4', metadata={'source': 'mammal-pets-doc'}, page_content='Dogs are great companions, known for their loyalty and friendliness.'),\n",
       "  1.574089527130127),\n",
       " (Document(id='b98b3fd7-5e24-4e44-b33a-2045126ac4dc', metadata={'source': 'mammal-pets-doc'}, page_content='Dogs are great companions, known for their loyalty and friendliness.'),\n",
       "  1.574089527130127)]"
      ]
     },
     "execution_count": 19,
     "metadata": {},
     "output_type": "execute_result"
    }
   ],
   "source": [
    "vectorstore.similarity_search_with_score(\"cat\")"
   ]
  },
  {
   "cell_type": "markdown",
   "metadata": {},
   "source": [
    "### Retrievers\n",
    "LangChain VectorStore objects do not subclass Runnable, and so cannot immediately be integrated into LangChain Expression Language chains.\n",
    "\n",
    "LangChain Retrievers are Runnables, so they implement a standard set of methods (e.g., synchronous and asynchronous invoke and batch operations) and are designed to be incorporated in LCEL chains.\n",
    "\n",
    "We can create a simple version of this ourselves, without subclassing Retriever. If we choose what method we wish to use to retrieve documents, we can create a runnable easily. Below we will build one around the similarity_search method:"
   ]
  },
  {
   "cell_type": "code",
   "execution_count": 20,
   "metadata": {},
   "outputs": [
    {
     "data": {
      "text/plain": [
       "[[Document(id='c2639975-85d3-4ef1-bb2b-93b0c7f4e0cd', metadata={'source': 'mammal-pets-doc'}, page_content='Cats are independent pets that often enjoy their own space.')],\n",
       " [Document(id='e44dcd64-65a2-41aa-b72d-f091b4943de4', metadata={'source': 'mammal-pets-doc'}, page_content='Dogs are great companions, known for their loyalty and friendliness.')]]"
      ]
     },
     "execution_count": 20,
     "metadata": {},
     "output_type": "execute_result"
    }
   ],
   "source": [
    "from typing import List\n",
    "\n",
    "from langchain_core.documents import Document\n",
    "from langchain_core.runnables import RunnableLambda\n",
    "\n",
    "retriever=RunnableLambda(vectorstore.similarity_search).bind(k=1)\n",
    "retriever.batch([\"cat\",\"dog\"])"
   ]
  },
  {
   "cell_type": "markdown",
   "metadata": {},
   "source": [
    "Vectorstores implement an as_retriever method that will generate a Retriever, specifically a VectorStoreRetriever. These retrievers include specific search_type and search_kwargs attributes that identify what methods of the underlying vector store to call, and how to parameterize them. For instance, we can replicate the above with the following:"
   ]
  },
  {
   "cell_type": "code",
   "execution_count": 21,
   "metadata": {},
   "outputs": [
    {
     "data": {
      "text/plain": [
       "[[Document(id='c2639975-85d3-4ef1-bb2b-93b0c7f4e0cd', metadata={'source': 'mammal-pets-doc'}, page_content='Cats are independent pets that often enjoy their own space.')],\n",
       " [Document(id='e44dcd64-65a2-41aa-b72d-f091b4943de4', metadata={'source': 'mammal-pets-doc'}, page_content='Dogs are great companions, known for their loyalty and friendliness.')]]"
      ]
     },
     "execution_count": 21,
     "metadata": {},
     "output_type": "execute_result"
    }
   ],
   "source": [
    "retriever=vectorstore.as_retriever(\n",
    "    search_type=\"similarity\",\n",
    "    search_kwargs={\"k\":1}\n",
    ")\n",
    "retriever.batch([\"cat\",\"dog\"])\n"
   ]
  },
  {
   "cell_type": "code",
   "execution_count": 24,
   "metadata": {},
   "outputs": [
    {
     "name": "stdout",
     "output_type": "stream",
     "text": [
      "Dogs are wonderful companions—renowned for their loyalty and friendly nature.\n"
     ]
    }
   ],
   "source": [
    "## RAG\n",
    "from langchain_core.prompts import ChatPromptTemplate\n",
    "from langchain_core.runnables import RunnablePassthrough\n",
    "\n",
    "message = \"\"\"\n",
    "Answer this question using the provided context only.\n",
    "\n",
    "{question}\n",
    "\n",
    "Context:\n",
    "{context}\n",
    "\"\"\"\n",
    "prompt = ChatPromptTemplate.from_messages([\n",
    "    (\"system\",\"You are a helpful assistant that answers {question} based on the context: {context} provided.\"),\n",
    "    (\"human\",\"{question}\")\n",
    "])\n",
    "\n",
    "rag_chain={\"context\":retriever,\"question\":RunnablePassthrough()}|prompt|llm\n",
    "\n",
    "response=rag_chain.invoke(\"tell me about dogs\")\n",
    "print(response.content)\n"
   ]
  },
  {
   "cell_type": "code",
   "execution_count": null,
   "metadata": {},
   "outputs": [],
   "source": []
  }
 ],
 "metadata": {
  "kernelspec": {
   "display_name": "venv",
   "language": "python",
   "name": "python3"
  },
  "language_info": {
   "codemirror_mode": {
    "name": "ipython",
    "version": 3
   },
   "file_extension": ".py",
   "mimetype": "text/x-python",
   "name": "python",
   "nbconvert_exporter": "python",
   "pygments_lexer": "ipython3",
   "version": "3.11.2"
  }
 },
 "nbformat": 4,
 "nbformat_minor": 2
}
